{
 "cells": [
  {
   "cell_type": "code",
   "execution_count": 8,
   "id": "0a807207-e36d-42e7-b79c-1618c7277a9a",
   "metadata": {},
   "outputs": [
    {
     "name": "stdout",
     "output_type": "stream",
     "text": [
      "TensorFlow 버전: 2.17.0\n",
      "GPU 사용 가능: [PhysicalDevice(name='/physical_device:GPU:0', device_type='GPU')]\n",
      "CUDA 빌드: True\n"
     ]
    }
   ],
   "source": [
    "import tensorflow as tf\n",
    "\n",
    "print(\"TensorFlow 버전:\", tf.__version__)\n",
    "print(\"GPU 사용 가능:\", tf.config.list_physical_devices('GPU'))\n",
    "print(\"CUDA 빌드:\", tf.test.is_built_with_cuda())"
   ]
  },
  {
   "cell_type": "code",
   "execution_count": null,
   "id": "5769e32f-8036-45d4-b46f-1d416bb55a62",
   "metadata": {},
   "outputs": [],
   "source": []
  }
 ],
 "metadata": {
  "kernelspec": {
   "display_name": "Python 3 (ipykernel)",
   "language": "python",
   "name": "python3"
  },
  "language_info": {
   "codemirror_mode": {
    "name": "ipython",
    "version": 3
   },
   "file_extension": ".py",
   "mimetype": "text/x-python",
   "name": "python",
   "nbconvert_exporter": "python",
   "pygments_lexer": "ipython3",
   "version": "3.12.11"
  }
 },
 "nbformat": 4,
 "nbformat_minor": 5
}
