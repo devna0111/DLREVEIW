{
 "cells": [
  {
   "cell_type": "markdown",
   "id": "cf1c4645",
   "metadata": {},
   "source": [
    "# CNN_모델 설계 및 학습"
   ]
  },
  {
   "cell_type": "code",
   "execution_count": 1,
   "id": "4f9a611b",
   "metadata": {},
   "outputs": [
    {
     "name": "stderr",
     "output_type": "stream",
     "text": [
      "2025-09-24 12:40:16.457086: E external/local_xla/xla/stream_executor/cuda/cuda_dnn.cc:9261] Unable to register cuDNN factory: Attempting to register factory for plugin cuDNN when one has already been registered\n",
      "2025-09-24 12:40:16.457254: E external/local_xla/xla/stream_executor/cuda/cuda_fft.cc:607] Unable to register cuFFT factory: Attempting to register factory for plugin cuFFT when one has already been registered\n",
      "2025-09-24 12:40:16.812512: E external/local_xla/xla/stream_executor/cuda/cuda_blas.cc:1515] Unable to register cuBLAS factory: Attempting to register factory for plugin cuBLAS when one has already been registered\n",
      "2025-09-24 12:40:15.879708: I tensorflow/core/platform/cpu_feature_guard.cc:182] This TensorFlow binary is optimized to use available CPU instructions in performance-critical operations.\n",
      "To enable the following instructions: AVX2 FMA, in other operations, rebuild TensorFlow with the appropriate compiler flags.\n",
      "2025-09-24 12:40:22.709003: W tensorflow/compiler/tf2tensorrt/utils/py_utils.cc:38] TF-TRT Warning: Could not find TensorRT\n"
     ]
    },
    {
     "name": "stdout",
     "output_type": "stream",
     "text": [
      "Model: \"sequential\"\n",
      "_________________________________________________________________\n",
      " Layer (type)                Output Shape              Param #   \n",
      "=================================================================\n",
      " dense (Dense)               (None, 1024)              803840    \n",
      "                                                                 \n",
      " dense_1 (Dense)             (None, 512)               524800    \n",
      "                                                                 \n",
      " dense_2 (Dense)             (None, 512)               262656    \n",
      "                                                                 \n",
      " dense_3 (Dense)             (None, 10)                5130      \n",
      "                                                                 \n",
      "=================================================================\n",
      "Total params: 1596426 (6.09 MB)\n",
      "Trainable params: 1596426 (6.09 MB)\n",
      "Non-trainable params: 0 (0.00 Byte)\n",
      "_________________________________________________________________\n"
     ]
    },
    {
     "name": "stderr",
     "output_type": "stream",
     "text": [
      "2025-09-24 12:40:36.787648: I external/local_xla/xla/stream_executor/cuda/cuda_executor.cc:887] could not open file to read NUMA node: /sys/bus/pci/devices/0000:01:00.0/numa_node\n",
      "Your kernel may have been built without NUMA support.\n",
      "2025-09-24 12:40:39.284674: W tensorflow/core/common_runtime/gpu/gpu_device.cc:2256] Cannot dlopen some GPU libraries. Please make sure the missing libraries mentioned above are installed properly if you would like to use GPU. Follow the guide at https://www.tensorflow.org/install/gpu for how to download and setup the required libraries for your platform.\n",
      "Skipping registering GPU devices...\n"
     ]
    },
    {
     "name": "stdout",
     "output_type": "stream",
     "text": [
      "None\n"
     ]
    },
    {
     "name": "stderr",
     "output_type": "stream",
     "text": [
      "2025-09-24 12:40:39.689920: W external/local_tsl/tsl/framework/cpu_allocator_impl.cc:83] Allocation of 188160000 exceeds 10% of free system memory.\n"
     ]
    },
    {
     "name": "stdout",
     "output_type": "stream",
     "text": [
      "Epoch 1/10\n",
      "469/469 [==============================] - 9s 15ms/step - loss: 0.2015 - accuracy: 0.9391 - val_loss: 0.1065 - val_accuracy: 0.9667\n",
      "Epoch 2/10\n",
      "469/469 [==============================] - 9s 19ms/step - loss: 0.0800 - accuracy: 0.9754 - val_loss: 0.0805 - val_accuracy: 0.9759\n",
      "Epoch 3/10\n",
      "469/469 [==============================] - 9s 19ms/step - loss: 0.0543 - accuracy: 0.9832 - val_loss: 0.0797 - val_accuracy: 0.9763\n",
      "Epoch 4/10\n",
      "469/469 [==============================] - 9s 19ms/step - loss: 0.0413 - accuracy: 0.9868 - val_loss: 0.0911 - val_accuracy: 0.9751\n",
      "Epoch 5/10\n",
      "469/469 [==============================] - 7s 15ms/step - loss: 0.0333 - accuracy: 0.9894 - val_loss: 0.0795 - val_accuracy: 0.9789\n",
      "Epoch 6/10\n",
      "469/469 [==============================] - 9s 19ms/step - loss: 0.0262 - accuracy: 0.9917 - val_loss: 0.0913 - val_accuracy: 0.9766\n",
      "Epoch 7/10\n",
      "469/469 [==============================] - 9s 19ms/step - loss: 0.0232 - accuracy: 0.9928 - val_loss: 0.0889 - val_accuracy: 0.9778\n",
      "Epoch 8/10\n",
      "469/469 [==============================] - 7s 15ms/step - loss: 0.0210 - accuracy: 0.9934 - val_loss: 0.1067 - val_accuracy: 0.9747\n",
      "Epoch 9/10\n",
      "469/469 [==============================] - 9s 18ms/step - loss: 0.0208 - accuracy: 0.9934 - val_loss: 0.0896 - val_accuracy: 0.9798\n",
      "Epoch 10/10\n",
      "469/469 [==============================] - 9s 18ms/step - loss: 0.0191 - accuracy: 0.9942 - val_loss: 0.0922 - val_accuracy: 0.9776\n"
     ]
    },
    {
     "name": "stderr",
     "output_type": "stream",
     "text": [
      "/home/devna0111/miniconda3/envs/dl/lib/python3.10/site-packages/keras/src/engine/training.py:3103: UserWarning: You are saving your model as an HDF5 file via `model.save()`. This file format is considered legacy. We recommend using instead the native Keras format, e.g. `model.save('my_model.keras')`.\n",
      "  saving_api.save_model(\n"
     ]
    },
    {
     "name": "stdout",
     "output_type": "stream",
     "text": [
      "313/313 [==============================] - 2s 5ms/step - loss: 0.0922 - accuracy: 0.9776\n",
      "정확율 : 97.75999784469604\n"
     ]
    }
   ],
   "source": [
    "import tensorflow as tf\n",
    "import numpy as np\n",
    "import tensorflow.keras.datasets as ds\n",
    "\n",
    "from tensorflow.keras.models import Sequential\n",
    "from tensorflow.keras.layers import Conv2D, MaxPooling2D,Flatten,Dropout,Dense\n",
    "from tensorflow.keras.optimizers import Adam\n",
    "\n",
    "my_epochs=10\n",
    "\n",
    "(x_train, y_train), (x_test, y_test) = ds.mnist.load_data()\n",
    "x_train = x_train.reshape(60000,28*28)\n",
    "x_test = x_test.reshape(10000,28*28)\n",
    "x_train = x_train.astype(np.float32)/255.0\n",
    "x_test = x_test.astype(np.float32)/255.0\n",
    "y_train = tf.keras.utils.to_categorical(y_train,10)\n",
    "y_test = tf.keras.utils.to_categorical(y_test,10)\n",
    "\n",
    "cnn = Sequential()\n",
    "cnn.add(Dense(units=1024,activation='relu',input_shape=(28*28,)))\n",
    "cnn.add(Dense(units=512,activation='relu'))\n",
    "cnn.add(Dense(units=512,activation='relu'))\n",
    "cnn.add(Dense(units=10, activation='softmax'))\n",
    "\n",
    "cnn.compile(loss='categorical_crossentropy', optimizer=Adam(learning_rate=0.001),metrics=['accuracy'])\n",
    "print(cnn.summary())\n",
    "hist = cnn.fit(x_train, y_train, batch_size=128, epochs=my_epochs, validation_data=(x_test,y_test))\n",
    "\n",
    "cnn.save('mlp.h5')\n",
    "\n",
    "res = cnn.evaluate(x_test,y_test)\n",
    "print(\"정확율 :\",res[1]*100)"
   ]
  },
  {
   "cell_type": "code",
   "execution_count": 3,
   "id": "2341534d",
   "metadata": {},
   "outputs": [
    {
     "data": {
      "image/png": "[encoded data removed]",
      "text/plain": [
       "<Figure size 640x480 with 1 Axes>"
      ]
     },
     "metadata": {},
     "output_type": "display_data"
    }
   ],
   "source": [
    "import matplotlib.pyplot as plt\n",
    "# 검증셋과 학습셋의 오차를 저장합니다.\n",
    "y_vloss = hist.history['val_loss']\n",
    "y_loss = hist.history['loss']\n",
    "\n",
    "# 그래프로 표현해 봅니다.\n",
    "x_len = np.arange(len(y_loss))\n",
    "plt.plot(x_len, y_vloss, marker='.', c=\"red\", label='Testset_loss')\n",
    "plt.plot(x_len, y_loss, marker='.', c=\"blue\", label='Trainset_loss')\n",
    "\n",
    "# 그래프에 그리드를 주고 레이블을 표시하겠습니다.\n",
    "plt.legend(loc='upper right')\n",
    "plt.grid()\n",
    "plt.xlabel('epoch')\n",
    "plt.ylabel('loss')\n",
    "plt.show()"
   ]
  },
  {
   "cell_type": "code",
   "execution_count": 2,
   "id": "92772d9f",
   "metadata": {},
   "outputs": [],
   "source": [
    "import numpy as np\n",
    "import tensorflow as tf\n",
    "import cv2 as cv\n",
    "import matplotlib.pyplot as plt"
   ]
  },
  {
   "cell_type": "code",
   "execution_count": 3,
   "id": "0f370e47",
   "metadata": {},
   "outputs": [],
   "source": [
    "model = tf.keras.models.load_model('mlp.h5')"
   ]
  },
  {
   "cell_type": "code",
   "execution_count": 6,
   "id": "0f04b6c1",
   "metadata": {},
   "outputs": [
    {
     "name": "stdout",
     "output_type": "stream",
     "text": [
      "1/1 [==============================] - 0s 47ms/step\n",
      "[[2.41066437e-06 9.95130658e-01 2.81168877e-06 7.38621975e-06\n",
      "  3.02892768e-05 1.47761875e-06 4.42553187e-07 1.88070408e-03\n",
      "  2.84290803e-03 1.00969461e-04]\n",
      " [3.06254915e-05 1.29776512e-04 9.99258101e-01 8.50238430e-05\n",
      "  3.46829097e-07 1.65320944e-06 3.34038100e-06 3.92428192e-04\n",
      "  9.82858182e-05 4.32855131e-07]\n",
      " [1.55081740e-04 1.16052324e-04 5.07856486e-04 9.97613549e-01\n",
      "  1.01210999e-05 7.55967412e-05 9.51736979e-07 3.17571503e-05\n",
      "  7.64086377e-04 7.24866171e-04]\n",
      " [4.21050761e-04 1.78476781e-04 3.30298580e-03 1.24756608e-03\n",
      "  3.21743712e-02 1.84658635e-03 3.40422179e-04 2.38839700e-03\n",
      "  1.28494333e-02 9.45250750e-01]\n",
      " [1.96518330e-03 3.83804785e-04 2.04715389e-03 4.48168874e-01\n",
      "  5.64765593e-04 8.86930004e-02 9.59378813e-05 1.77441947e-02\n",
      "  6.97933063e-02 3.70543718e-01]]\n",
      "[1 2 3 9 3]\n"
     ]
    }
   ],
   "source": [
    "def reset() :\n",
    "    global img\n",
    "    \n",
    "    img = np.ones((200,520,3),dtype=np.uint8)*255\n",
    "    for i in range(5) :\n",
    "        cv.rectangle(img, (10+i*100,50), (10+(i+1)*100,150),(0,0,255))\n",
    "    cv.putText(img, \n",
    "               'e : erase // s : show // r : recognition // q : quit', (10,40),\n",
    "               cv.FONT_HERSHEY_SIMPLEX,0.8,(255,0,0),1)\n",
    "\n",
    "def grab_numerals() :\n",
    "    numerals = []\n",
    "    for i in range(5) :\n",
    "        roi = img[51:149, 11+i*100:9+(i+1)*100,0]\n",
    "        roi = 255-cv.resize(roi,(28,28),interpolation=cv.INTER_CUBIC)\n",
    "        numerals.append(roi)\n",
    "    numerals = np.array(numerals)\n",
    "    return numerals\n",
    "\n",
    "def show() :\n",
    "    numerals = grab_numerals()\n",
    "    plt.figure(figsize=(25,5))\n",
    "    for i in range(5) :\n",
    "        plt.subplot(1,5,i+1)\n",
    "        plt.imshow(numerals[i],cmap='gray')\n",
    "        plt.xticks([]); plt.yticks([])\n",
    "    plt.show()\n",
    "\n",
    "def recognition() :\n",
    "    numerals = grab_numerals()\n",
    "    numerals = numerals.reshape(5,28*28)\n",
    "    numerals = numerals.astype(np.float32)/255.0\n",
    "    res = model.predict(numerals)\n",
    "    print(res)\n",
    "    class_id = np.argmax(res, axis=1)\n",
    "    print(class_id)\n",
    "    for i in range(5) :\n",
    "        cv.putText(img, str(class_id[i]),(50+i*100,180),cv.FONT_HERSHEY_SIMPLEX, 1, (255,0,0),1)\n",
    "    # winsound.Beep(1000,500)\n",
    "    \n",
    "BrushSiz=4\n",
    "LColor=(0,0,0)\n",
    "\n",
    "def writing(event,x,y,flags,param) :\n",
    "    if event == cv.EVENT_LBUTTONDOWN :\n",
    "        cv.circle(img,(x,y),BrushSiz,LColor,-1)\n",
    "    elif event == cv.EVENT_MOUSEMOVE and flags==cv.EVENT_FLAG_LBUTTON :\n",
    "        cv.circle(img,(x,y),BrushSiz,LColor,-1)\n",
    "\n",
    "reset()\n",
    "cv.namedWindow('Writing')\n",
    "cv.setMouseCallback('Writing', writing)\n",
    "\n",
    "while True :\n",
    "    cv.imshow('Writing',img)\n",
    "    key = cv.waitKey(1)\n",
    "    if key == ord('e') :\n",
    "        reset()\n",
    "    elif key == ord('s') :\n",
    "        show()\n",
    "    elif key == ord('r') :\n",
    "        recognition()\n",
    "    elif key == ord('q') :\n",
    "        break\n",
    "    \n",
    "cv.destroyAllWindows()"
   ]
  },
  {
   "cell_type": "code",
   "execution_count": null,
   "id": "47985d29",
   "metadata": {},
   "outputs": [],
   "source": []
  }
 ],
 "metadata": {
  "kernelspec": {
   "display_name": "dl",
   "language": "python",
   "name": "python3"
  },
  "language_info": {
   "codemirror_mode": {
    "name": "ipython",
    "version": 3
   },
   "file_extension": ".py",
   "mimetype": "text/x-python",
   "name": "python",
   "nbconvert_exporter": "python",
   "pygments_lexer": "ipython3",
   "version": "3.10.18"
  }
 },
 "nbformat": 4,
 "nbformat_minor": 5
}
