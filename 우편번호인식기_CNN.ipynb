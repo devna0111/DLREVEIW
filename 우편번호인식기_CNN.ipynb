{
 "cells": [
  {
   "cell_type": "markdown",
   "id": "cf1c4645",
   "metadata": {},
   "source": [
    "# CNN_모델 설계 및 학습"
   ]
  },
  {
   "cell_type": "code",
   "execution_count": 1,
   "id": "4f9a611b",
   "metadata": {},
   "outputs": [
    {
     "name": "stderr",
     "output_type": "stream",
     "text": [
      "2025-09-24 12:43:45.222103: E external/local_xla/xla/stream_executor/cuda/cuda_dnn.cc:9261] Unable to register cuDNN factory: Attempting to register factory for plugin cuDNN when one has already been registered\n",
      "2025-09-24 12:43:45.222171: E external/local_xla/xla/stream_executor/cuda/cuda_fft.cc:607] Unable to register cuFFT factory: Attempting to register factory for plugin cuFFT when one has already been registered\n",
      "2025-09-24 12:43:45.223532: E external/local_xla/xla/stream_executor/cuda/cuda_blas.cc:1515] Unable to register cuBLAS factory: Attempting to register factory for plugin cuBLAS when one has already been registered\n",
      "2025-09-24 12:43:45.231223: I tensorflow/core/platform/cpu_feature_guard.cc:182] This TensorFlow binary is optimized to use available CPU instructions in performance-critical operations.\n",
      "To enable the following instructions: AVX2 FMA, in other operations, rebuild TensorFlow with the appropriate compiler flags.\n",
      "2025-09-24 12:43:46.332559: W tensorflow/compiler/tf2tensorrt/utils/py_utils.cc:38] TF-TRT Warning: Could not find TensorRT\n"
     ]
    },
    {
     "name": "stdout",
     "output_type": "stream",
     "text": [
      "Model: \"sequential\"\n",
      "_________________________________________________________________\n",
      " Layer (type)                Output Shape              Param #   \n",
      "=================================================================\n",
      " conv2d (Conv2D)             (None, 26, 26, 32)        320       \n",
      "                                                                 \n",
      " conv2d_1 (Conv2D)           (None, 24, 24, 32)        9248      \n",
      "                                                                 \n",
      " max_pooling2d (MaxPooling2  (None, 12, 12, 32)        0         \n",
      " D)                                                              \n",
      "                                                                 \n",
      " dropout (Dropout)           (None, 12, 12, 32)        0         \n"
     ]
    },
    {
     "name": "stderr",
     "output_type": "stream",
     "text": [
      "2025-09-24 12:43:48.731553: I external/local_xla/xla/stream_executor/cuda/cuda_executor.cc:887] could not open file to read NUMA node: /sys/bus/pci/devices/0000:01:00.0/numa_node\n",
      "Your kernel may have been built without NUMA support.\n",
      "2025-09-24 12:43:49.668207: W tensorflow/core/common_runtime/gpu/gpu_device.cc:2256] Cannot dlopen some GPU libraries. Please make sure the missing libraries mentioned above are installed properly if you would like to use GPU. Follow the guide at https://www.tensorflow.org/install/gpu for how to download and setup the required libraries for your platform.\n",
      "Skipping registering GPU devices...\n"
     ]
    },
    {
     "name": "stdout",
     "output_type": "stream",
     "text": [
      "                                                                 \n",
      " conv2d_2 (Conv2D)           (None, 10, 10, 64)        18496     \n",
      "                                                                 \n",
      " conv2d_3 (Conv2D)           (None, 8, 8, 64)          36928     \n",
      "                                                                 \n",
      " max_pooling2d_1 (MaxPoolin  (None, 4, 4, 64)          0         \n",
      " g2D)                                                            \n",
      "                                                                 \n",
      " dropout_1 (Dropout)         (None, 4, 4, 64)          0         \n",
      "                                                                 \n",
      " flatten (Flatten)           (None, 1024)              0         \n",
      "                                                                 \n",
      " dense (Dense)               (None, 512)               524800    \n",
      "                                                                 \n",
      " dropout_2 (Dropout)         (None, 512)               0         \n",
      "                                                                 \n",
      " dense_1 (Dense)             (None, 10)                5130      \n",
      "                                                                 \n",
      "=================================================================\n",
      "Total params: 594922 (2.27 MB)\n",
      "Trainable params: 594922 (2.27 MB)\n",
      "Non-trainable params: 0 (0.00 Byte)\n",
      "_________________________________________________________________\n",
      "None\n"
     ]
    },
    {
     "name": "stderr",
     "output_type": "stream",
     "text": [
      "2025-09-24 12:43:50.069301: W external/local_tsl/tsl/framework/cpu_allocator_impl.cc:83] Allocation of 188160000 exceeds 10% of free system memory.\n"
     ]
    },
    {
     "name": "stdout",
     "output_type": "stream",
     "text": [
      "Epoch 1/20\n",
      "469/469 [==============================] - 52s 112ms/step - loss: 0.2311 - accuracy: 0.9268 - val_loss: 0.0423 - val_accuracy: 0.9869\n",
      "Epoch 2/20\n",
      "469/469 [==============================] - 46s 99ms/step - loss: 0.0683 - accuracy: 0.9790 - val_loss: 0.0255 - val_accuracy: 0.9913\n",
      "Epoch 3/20\n",
      "469/469 [==============================] - 48s 103ms/step - loss: 0.0483 - accuracy: 0.9854 - val_loss: 0.0291 - val_accuracy: 0.9905\n",
      "Epoch 4/20\n",
      "469/469 [==============================] - 43s 92ms/step - loss: 0.0378 - accuracy: 0.9880 - val_loss: 0.0229 - val_accuracy: 0.9927\n",
      "Epoch 5/20\n",
      "469/469 [==============================] - 43s 91ms/step - loss: 0.0320 - accuracy: 0.9904 - val_loss: 0.0187 - val_accuracy: 0.9941\n",
      "Epoch 6/20\n",
      "469/469 [==============================] - 45s 95ms/step - loss: 0.0288 - accuracy: 0.9912 - val_loss: 0.0225 - val_accuracy: 0.9925\n",
      "Epoch 7/20\n",
      "469/469 [==============================] - 44s 95ms/step - loss: 0.0275 - accuracy: 0.9908 - val_loss: 0.0148 - val_accuracy: 0.9954\n",
      "Epoch 8/20\n",
      "469/469 [==============================] - 43s 92ms/step - loss: 0.0244 - accuracy: 0.9925 - val_loss: 0.0173 - val_accuracy: 0.9952\n",
      "Epoch 9/20\n",
      "469/469 [==============================] - 41s 87ms/step - loss: 0.0223 - accuracy: 0.9931 - val_loss: 0.0179 - val_accuracy: 0.9944\n",
      "Epoch 10/20\n",
      "469/469 [==============================] - 42s 90ms/step - loss: 0.0196 - accuracy: 0.9933 - val_loss: 0.0161 - val_accuracy: 0.9953\n",
      "Epoch 11/20\n",
      "469/469 [==============================] - 42s 89ms/step - loss: 0.0182 - accuracy: 0.9938 - val_loss: 0.0145 - val_accuracy: 0.9951\n",
      "Epoch 12/20\n",
      "469/469 [==============================] - 41s 88ms/step - loss: 0.0171 - accuracy: 0.9948 - val_loss: 0.0207 - val_accuracy: 0.9948\n",
      "Epoch 13/20\n",
      "469/469 [==============================] - 46s 97ms/step - loss: 0.0162 - accuracy: 0.9947 - val_loss: 0.0228 - val_accuracy: 0.9941\n",
      "Epoch 14/20\n",
      "469/469 [==============================] - 40s 86ms/step - loss: 0.0156 - accuracy: 0.9950 - val_loss: 0.0244 - val_accuracy: 0.9936\n",
      "Epoch 15/20\n",
      "469/469 [==============================] - 42s 90ms/step - loss: 0.0155 - accuracy: 0.9950 - val_loss: 0.0200 - val_accuracy: 0.9939\n",
      "Epoch 16/20\n",
      "469/469 [==============================] - 43s 91ms/step - loss: 0.0147 - accuracy: 0.9951 - val_loss: 0.0160 - val_accuracy: 0.9952\n",
      "Epoch 17/20\n",
      "469/469 [==============================] - 40s 85ms/step - loss: 0.0142 - accuracy: 0.9954 - val_loss: 0.0212 - val_accuracy: 0.9938\n",
      "Epoch 18/20\n",
      "469/469 [==============================] - 42s 91ms/step - loss: 0.0130 - accuracy: 0.9957 - val_loss: 0.0191 - val_accuracy: 0.9955\n",
      "Epoch 19/20\n",
      "469/469 [==============================] - 42s 90ms/step - loss: 0.0115 - accuracy: 0.9965 - val_loss: 0.0211 - val_accuracy: 0.9946\n",
      "Epoch 20/20\n",
      "469/469 [==============================] - 41s 90ms/step - loss: 0.0126 - accuracy: 0.9956 - val_loss: 0.0211 - val_accuracy: 0.9942\n",
      "  8/313 [..............................] - ETA: 2s - loss: 0.0015 - accuracy: 1.0000"
     ]
    },
    {
     "name": "stderr",
     "output_type": "stream",
     "text": [
      "/home/devna0111/miniconda3/envs/dl/lib/python3.10/site-packages/keras/src/engine/training.py:3103: UserWarning: You are saving your model as an HDF5 file via `model.save()`. This file format is considered legacy. We recommend using instead the native Keras format, e.g. `model.save('my_model.keras')`.\n",
      "  saving_api.save_model(\n"
     ]
    },
    {
     "name": "stdout",
     "output_type": "stream",
     "text": [
      "313/313 [==============================] - 2s 7ms/step - loss: 0.0211 - accuracy: 0.9942\n",
      "정확율 : 99.41999912261963\n"
     ]
    }
   ],
   "source": [
    "import tensorflow as tf\n",
    "import numpy as np\n",
    "import tensorflow.keras.datasets as ds\n",
    "\n",
    "from tensorflow.keras.models import Sequential\n",
    "from tensorflow.keras.layers import Conv2D, MaxPooling2D,Flatten,Dropout,Dense\n",
    "from tensorflow.keras.optimizers import Adam\n",
    "\n",
    "my_epochs=20\n",
    "\n",
    "(x_train, y_train), (x_test, y_test) = ds.mnist.load_data()\n",
    "x_train = x_train.reshape(60000,28,28,1)\n",
    "x_test = x_test.reshape(10000,28,28,1)\n",
    "x_train = x_train.astype(np.float32)/255.0\n",
    "x_test = x_test.astype(np.float32)/255.0\n",
    "y_train = tf.keras.utils.to_categorical(y_train,10)\n",
    "y_test = tf.keras.utils.to_categorical(y_test,10)\n",
    "\n",
    "cnn = Sequential()\n",
    "cnn.add(Conv2D(32,(3,3),activation='relu',input_shape=(28,28,1)))\n",
    "cnn.add(Conv2D(32,(3,3),activation='relu'))\n",
    "cnn.add(MaxPooling2D(pool_size=(2,2)))\n",
    "cnn.add(Dropout(0.25))\n",
    "cnn.add(Conv2D(64,(3,3),activation='relu'))\n",
    "cnn.add(Conv2D(64,(3,3),activation='relu'))\n",
    "cnn.add(MaxPooling2D(pool_size=(2,2)))\n",
    "cnn.add(Dropout(0.25))\n",
    "cnn.add(Flatten())\n",
    "cnn.add(Dense(units=512,activation='relu'))\n",
    "cnn.add(Dropout(0.5))\n",
    "cnn.add(Dense(units=10, activation='softmax'))\n",
    "\n",
    "cnn.compile(loss='categorical_crossentropy', optimizer=Adam(learning_rate=0.001),metrics=['accuracy'])\n",
    "print(cnn.summary())\n",
    "\n",
    "hist = cnn.fit(x_train, y_train, batch_size=128, epochs=my_epochs, validation_data=(x_test,y_test))\n",
    "\n",
    "cnn.save('cnn_v2.h5')\n",
    "\n",
    "res = cnn.evaluate(x_test,y_test)\n",
    "print(\"정확율 :\",res[1]*100)"
   ]
  },
  {
   "cell_type": "code",
   "execution_count": 2,
   "id": "cad2ad2d",
   "metadata": {},
   "outputs": [
    {
     "data": {
      "image/png": "[encoded data removed]",
      "text/plain": [
       "<Figure size 640x480 with 1 Axes>"
      ]
     },
     "metadata": {},
     "output_type": "display_data"
    }
   ],
   "source": [
    "import matplotlib.pyplot as plt\n",
    "# 검증셋과 학습셋의 오차를 저장합니다.\n",
    "y_vloss = hist.history['val_loss']\n",
    "y_loss = hist.history['loss']\n",
    "\n",
    "# 그래프로 표현해 봅니다.\n",
    "x_len = np.arange(len(y_loss))\n",
    "plt.plot(x_len, y_vloss, marker='.', c=\"red\", label='Testset_loss')\n",
    "plt.plot(x_len, y_loss, marker='.', c=\"blue\", label='Trainset_loss')\n",
    "\n",
    "# 그래프에 그리드를 주고 레이블을 표시하겠습니다.\n",
    "plt.legend(loc='upper right')\n",
    "plt.grid()\n",
    "plt.xlabel('epoch')\n",
    "plt.ylabel('loss')\n",
    "plt.show()"
   ]
  },
  {
   "cell_type": "code",
   "execution_count": 4,
   "id": "92772d9f",
   "metadata": {},
   "outputs": [],
   "source": [
    "import numpy as np\n",
    "import tensorflow as tf\n",
    "import cv2 as cv\n",
    "import matplotlib.pyplot as plt"
   ]
  },
  {
   "cell_type": "code",
   "execution_count": 5,
   "id": "0f370e47",
   "metadata": {},
   "outputs": [],
   "source": [
    "model = tf.keras.models.load_model('cnn_v2.h5')"
   ]
  },
  {
   "cell_type": "code",
   "execution_count": 14,
   "id": "0f04b6c1",
   "metadata": {},
   "outputs": [
    {
     "name": "stdout",
     "output_type": "stream",
     "text": [
      "1/1 [==============================] - 0s 17ms/step\n",
      "[[2.53936811e-03 9.34892595e-01 1.23092625e-03 3.93571216e-04\n",
      "  1.03548367e-03 2.61334460e-02 2.18985397e-02 4.02293867e-03\n",
      "  7.08729960e-03 7.65836856e-04]\n",
      " [1.58559487e-07 2.38986195e-06 9.98436153e-01 1.29370729e-03\n",
      "  1.72542656e-07 1.03109632e-09 2.54919552e-09 2.63570662e-04\n",
      "  3.38047516e-06 3.99429041e-07]\n",
      " [1.45066308e-03 3.24010514e-02 1.33721501e-01 7.31177628e-01\n",
      "  1.43602593e-02 5.95625788e-02 1.15328934e-04 1.80880371e-02\n",
      "  8.97444226e-03 1.48468069e-04]\n",
      " [4.15158831e-03 5.76322840e-04 5.28609455e-02 8.08933564e-03\n",
      "  3.02589417e-01 2.07506157e-02 1.94014963e-02 2.07667938e-03\n",
      "  1.26904696e-01 4.62598920e-01]\n",
      " [5.58109195e-06 1.56860315e-05 1.75976106e-06 1.13461399e-04\n",
      "  4.63725564e-06 9.96997952e-01 1.60645868e-05 6.19120271e-07\n",
      "  3.44421976e-04 2.49977666e-03]]\n",
      "[1 2 3 9 5]\n",
      "1/1 [==============================] - 0s 17ms/step\n",
      "[[2.53936811e-03 9.34892595e-01 1.23092625e-03 3.93571216e-04\n",
      "  1.03548367e-03 2.61334460e-02 2.18985397e-02 4.02293867e-03\n",
      "  7.08729960e-03 7.65836856e-04]\n",
      " [1.58559487e-07 2.38986195e-06 9.98436153e-01 1.29370729e-03\n",
      "  1.72542656e-07 1.03109632e-09 2.54919552e-09 2.63570662e-04\n",
      "  3.38047516e-06 3.99429041e-07]\n",
      " [1.45066308e-03 3.24010514e-02 1.33721501e-01 7.31177628e-01\n",
      "  1.43602593e-02 5.95625788e-02 1.15328934e-04 1.80880371e-02\n",
      "  8.97444226e-03 1.48468069e-04]\n",
      " [4.15158831e-03 5.76322840e-04 5.28609455e-02 8.08933564e-03\n",
      "  3.02589417e-01 2.07506157e-02 1.94014963e-02 2.07667938e-03\n",
      "  1.26904696e-01 4.62598920e-01]\n",
      " [5.58109195e-06 1.56860315e-05 1.75976106e-06 1.13461399e-04\n",
      "  4.63725564e-06 9.96997952e-01 1.60645868e-05 6.19120271e-07\n",
      "  3.44421976e-04 2.49977666e-03]]\n",
      "[1 2 3 9 5]\n",
      "1/1 [==============================] - 0s 16ms/step\n",
      "[[3.5938271e-07 9.9980801e-01 4.7962640e-06 7.8590330e-07 4.8910504e-05\n",
      "  4.3078348e-06 3.2930602e-05 5.0090134e-06 9.3625815e-05 1.2237840e-06]\n",
      " [1.1869378e-05 2.2481221e-05 9.9963391e-01 8.0752790e-05 2.4890578e-06\n",
      "  1.3646651e-08 1.3092536e-07 2.4098171e-04 5.3106173e-06 2.0374584e-06]\n",
      " [5.9470373e-11 4.4689052e-08 2.0056182e-06 9.9999714e-01 1.3214563e-09\n",
      "  7.6814743e-08 1.7068922e-12 6.2642968e-08 1.1705646e-07 4.2480619e-07]\n",
      " [2.2071891e-09 1.1718453e-08 3.9050019e-07 1.6729007e-09 9.9995148e-01\n",
      "  6.3785928e-09 1.0410508e-08 2.4198340e-07 7.8030652e-08 4.7841306e-05]\n",
      " [7.6381984e-06 1.0220328e-05 4.2680831e-06 3.8399437e-04 1.3901362e-04\n",
      "  9.9534434e-01 4.1807357e-06 8.0759557e-05 2.6308934e-03 1.3947474e-03]]\n",
      "[1 2 3 4 5]\n"
     ]
    }
   ],
   "source": [
    "def reset() :\n",
    "    global img\n",
    "    \n",
    "    img = np.ones((200,520,3),dtype=np.uint8)*255\n",
    "    for i in range(5) :\n",
    "        cv.rectangle(img, (10+i*100,50), (10+(i+1)*100,150),(0,0,255))\n",
    "    cv.putText(img, \n",
    "               'e : erase // s : show // r : recognition // q : quit', (10,40),\n",
    "               cv.FONT_HERSHEY_SIMPLEX,0.8,(255,0,0),1)\n",
    "\n",
    "def grab_numerals() :\n",
    "    numerals = []\n",
    "    for i in range(5) :\n",
    "        roi = img[51:149, 11+i*100:9+(i+1)*100,0]\n",
    "        roi = 255-cv.resize(roi,(28,28),interpolation=cv.INTER_CUBIC)\n",
    "        numerals.append(roi)\n",
    "    numerals = np.array(numerals)\n",
    "    return numerals\n",
    "\n",
    "def show() :\n",
    "    numerals = grab_numerals()\n",
    "    plt.figure(figsize=(25,5))\n",
    "    for i in range(5) :\n",
    "        plt.subplot(1,5,i+1)\n",
    "        plt.imshow(numerals[i],cmap='gray')\n",
    "        plt.xticks([]); plt.yticks([])\n",
    "    plt.show()\n",
    "\n",
    "def recognition() :\n",
    "    numerals = grab_numerals()\n",
    "    numerals = numerals.reshape(5,28,28,1)\n",
    "    numerals = numerals.astype(np.float32)/255.0\n",
    "    res = model.predict(numerals)\n",
    "    print(res)\n",
    "    class_id = np.argmax(res, axis=1)\n",
    "    print(class_id)\n",
    "    for i in range(5) :\n",
    "        cv.putText(img, str(class_id[i]),(50+i*100,180),cv.FONT_HERSHEY_SIMPLEX, 1, (255,0,0),1)\n",
    "    # winsound.Beep(1000,500)\n",
    "    \n",
    "BrushSiz=4\n",
    "LColor=(0,0,0)\n",
    "\n",
    "def writing(event,x,y,flags,param) :\n",
    "    if event == cv.EVENT_LBUTTONDOWN :\n",
    "        cv.circle(img,(x,y),BrushSiz,LColor,-1)\n",
    "    elif event == cv.EVENT_MOUSEMOVE and flags==cv.EVENT_FLAG_LBUTTON :\n",
    "        cv.circle(img,(x,y),BrushSiz,LColor,-1)\n",
    "\n",
    "reset()\n",
    "cv.namedWindow('Writing')\n",
    "cv.setMouseCallback('Writing', writing)\n",
    "\n",
    "while True :\n",
    "    cv.imshow('Writing',img)\n",
    "    key = cv.waitKey(1)\n",
    "    if key == ord('e') :\n",
    "        reset()\n",
    "    elif key == ord('s') :\n",
    "        show()\n",
    "    elif key == ord('r') :\n",
    "        recognition()\n",
    "    elif key == ord('q') :\n",
    "        break\n",
    "    \n",
    "cv.destroyAllWindows()"
   ]
  },
  {
   "cell_type": "code",
   "execution_count": null,
   "id": "47985d29",
   "metadata": {},
   "outputs": [],
   "source": []
  }
 ],
 "metadata": {
  "kernelspec": {
   "display_name": "dl",
   "language": "python",
   "name": "python3"
  },
  "language_info": {
   "codemirror_mode": {
    "name": "ipython",
    "version": 3
   },
   "file_extension": ".py",
   "mimetype": "text/x-python",
   "name": "python",
   "nbconvert_exporter": "python",
   "pygments_lexer": "ipython3",
   "version": "3.10.18"
  }
 },
 "nbformat": 4,
 "nbformat_minor": 5
}
