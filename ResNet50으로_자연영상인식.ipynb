{
 "cells": [
  {
   "cell_type": "code",
   "execution_count": 3,
   "id": "ffe30bf8-2f1c-4deb-8f49-e991b14a0800",
   "metadata": {},
   "outputs": [],
   "source": [
    "import cv2 as cv\n",
    "import numpy as np\n",
    "from tensorflow.keras.applications.resnet50 import ResNet50, preprocess_input, decode_predictions"
   ]
  },
  {
   "cell_type": "code",
   "execution_count": 4,
   "id": "dfd3332c-364c-44e0-9f03-b20bd1c9623e",
   "metadata": {},
   "outputs": [
    {
     "name": "stderr",
     "output_type": "stream",
     "text": [
      "WARNING: All log messages before absl::InitializeLog() is called are written to STDERR\n",
      "I0000 00:00:1758790360.603371    1403 cuda_executor.cc:1001] could not open file to read NUMA node: /sys/bus/pci/devices/0000:01:00.0/numa_node\n",
      "Your kernel may have been built without NUMA support.\n",
      "I0000 00:00:1758790362.220696    1403 cuda_executor.cc:1001] could not open file to read NUMA node: /sys/bus/pci/devices/0000:01:00.0/numa_node\n",
      "Your kernel may have been built without NUMA support.\n",
      "I0000 00:00:1758790362.220764    1403 cuda_executor.cc:1001] could not open file to read NUMA node: /sys/bus/pci/devices/0000:01:00.0/numa_node\n",
      "Your kernel may have been built without NUMA support.\n",
      "I0000 00:00:1758790362.255641    1403 cuda_executor.cc:1001] could not open file to read NUMA node: /sys/bus/pci/devices/0000:01:00.0/numa_node\n",
      "Your kernel may have been built without NUMA support.\n",
      "I0000 00:00:1758790362.255861    1403 cuda_executor.cc:1001] could not open file to read NUMA node: /sys/bus/pci/devices/0000:01:00.0/numa_node\n",
      "Your kernel may have been built without NUMA support.\n",
      "I0000 00:00:1758790362.255953    1403 cuda_executor.cc:1001] could not open file to read NUMA node: /sys/bus/pci/devices/0000:01:00.0/numa_node\n",
      "Your kernel may have been built without NUMA support.\n",
      "I0000 00:00:1758790362.469092    1403 cuda_executor.cc:1001] could not open file to read NUMA node: /sys/bus/pci/devices/0000:01:00.0/numa_node\n",
      "Your kernel may have been built without NUMA support.\n",
      "I0000 00:00:1758790362.469232    1403 cuda_executor.cc:1001] could not open file to read NUMA node: /sys/bus/pci/devices/0000:01:00.0/numa_node\n",
      "Your kernel may have been built without NUMA support.\n",
      "2025-09-25 17:52:42.469246: I tensorflow/core/common_runtime/gpu/gpu_device.cc:2112] Could not identify NUMA node of platform GPU id 0, defaulting to 0.  Your kernel may not have been built with NUMA support.\n",
      "I0000 00:00:1758790362.469322    1403 cuda_executor.cc:1001] could not open file to read NUMA node: /sys/bus/pci/devices/0000:01:00.0/numa_node\n",
      "Your kernel may have been built without NUMA support.\n",
      "2025-09-25 17:52:42.487520: I tensorflow/core/common_runtime/gpu/gpu_device.cc:2021] Created device /job:localhost/replica:0/task:0/device:GPU:0 with 1974 MB memory:  -> device: 0, name: NVIDIA GeForce GTX 1060 3GB, pci bus id: 0000:01:00.0, compute capability: 6.1\n"
     ]
    }
   ],
   "source": [
    "model = ResNet50(weights='imagenet')"
   ]
  },
  {
   "cell_type": "code",
   "execution_count": 15,
   "id": "0b66748e-a81b-4ac5-9f6b-65056b42be76",
   "metadata": {},
   "outputs": [],
   "source": [
    "img = cv.imread('./img/trash_paper.jpg')\n",
    "# img"
   ]
  },
  {
   "cell_type": "code",
   "execution_count": 16,
   "id": "3af1e707-14bc-4230-b4a2-38aaf4902e6b",
   "metadata": {},
   "outputs": [],
   "source": [
    "cv.imshow('img',img)\n",
    "cv.waitKey()\n",
    "cv.destroyAllWindows()"
   ]
  },
  {
   "cell_type": "code",
   "execution_count": 17,
   "id": "acd41e06-7896-4e9d-81d1-7fb685a25d78",
   "metadata": {},
   "outputs": [
    {
     "data": {
      "text/plain": [
       "array([[[[ 68, 134, 120],\n",
       "         [ 50, 151, 131],\n",
       "         [ 70, 151, 133],\n",
       "         ...,\n",
       "         [ 99,  83,  60],\n",
       "         [102,  85,  62],\n",
       "         [ 82,  66,  51]],\n",
       "\n",
       "        [[ 73, 143, 120],\n",
       "         [ 87, 155, 127],\n",
       "         [ 93, 146, 124],\n",
       "         ...,\n",
       "         [101,  86,  60],\n",
       "         [ 88,  76,  48],\n",
       "         [ 81,  71,  58]],\n",
       "\n",
       "        [[ 55, 153, 131],\n",
       "         [ 73, 149, 127],\n",
       "         [122, 166, 144],\n",
       "         ...,\n",
       "         [108,  93,  66],\n",
       "         [ 71,  57,  37],\n",
       "         [ 75,  67,  53]],\n",
       "\n",
       "        ...,\n",
       "\n",
       "        [[ 16,  83,  75],\n",
       "         [ 32,  95,  90],\n",
       "         [ 26,  94,  89],\n",
       "         ...,\n",
       "         [ 38,  35,  30],\n",
       "         [ 41,  39,  32],\n",
       "         [ 41,  38,  33]],\n",
       "\n",
       "        [[ 16,  75,  67],\n",
       "         [ 25,  82,  77],\n",
       "         [ 29,  94,  85],\n",
       "         ...,\n",
       "         [ 36,  34,  25],\n",
       "         [ 40,  37,  32],\n",
       "         [ 37,  31,  28]],\n",
       "\n",
       "        [[ 20,  85,  78],\n",
       "         [ 26,  93,  86],\n",
       "         [ 17,  79,  71],\n",
       "         ...,\n",
       "         [ 42,  39,  31],\n",
       "         [ 34,  30,  25],\n",
       "         [ 42,  35,  31]]]], dtype=uint8)"
      ]
     },
     "execution_count": 17,
     "metadata": {},
     "output_type": "execute_result"
    }
   ],
   "source": [
    "x = np.reshape(cv.resize(img,(224,224)),(1,224,224,3))\n",
    "x"
   ]
  },
  {
   "cell_type": "code",
   "execution_count": 18,
   "id": "cba601aa-3cea-4fe9-be0d-3af042e6bd17",
   "metadata": {},
   "outputs": [
    {
     "data": {
      "text/plain": [
       "array([[[[  16.060997 ,   17.221    ,  -55.68     ],\n",
       "         [  27.060997 ,   34.221    ,  -73.68     ],\n",
       "         [  29.060997 ,   34.221    ,  -53.68     ],\n",
       "         ...,\n",
       "         [ -43.939003 ,  -33.779    ,  -24.68     ],\n",
       "         [ -41.939003 ,  -31.779    ,  -21.68     ],\n",
       "         [ -52.939003 ,  -50.779    ,  -41.68     ]],\n",
       "\n",
       "        [[  16.060997 ,   26.221    ,  -50.68     ],\n",
       "         [  23.060997 ,   38.221    ,  -36.68     ],\n",
       "         [  20.060997 ,   29.221    ,  -30.68     ],\n",
       "         ...,\n",
       "         [ -43.939003 ,  -30.779    ,  -22.68     ],\n",
       "         [ -55.939003 ,  -40.779    ,  -35.68     ],\n",
       "         [ -45.939003 ,  -45.779    ,  -42.68     ]],\n",
       "\n",
       "        [[  27.060997 ,   36.221    ,  -68.68     ],\n",
       "         [  23.060997 ,   32.221    ,  -50.68     ],\n",
       "         [  40.060997 ,   49.221    ,   -1.6800003],\n",
       "         ...,\n",
       "         [ -37.939003 ,  -23.779    ,  -15.68     ],\n",
       "         [ -66.939    ,  -59.779    ,  -52.68     ],\n",
       "         [ -50.939003 ,  -49.779    ,  -48.68     ]],\n",
       "\n",
       "        ...,\n",
       "\n",
       "        [[ -28.939003 ,  -33.779    , -107.68     ],\n",
       "         [ -13.939003 ,  -21.779    ,  -91.68     ],\n",
       "         [ -14.939003 ,  -22.779    ,  -97.68     ],\n",
       "         ...,\n",
       "         [ -73.939    ,  -81.779    ,  -85.68     ],\n",
       "         [ -71.939    ,  -77.779    ,  -82.68     ],\n",
       "         [ -70.939    ,  -78.779    ,  -82.68     ]],\n",
       "\n",
       "        [[ -36.939003 ,  -41.779    , -107.68     ],\n",
       "         [ -26.939003 ,  -34.779    ,  -98.68     ],\n",
       "         [ -18.939003 ,  -22.779    ,  -94.68     ],\n",
       "         ...,\n",
       "         [ -78.939    ,  -82.779    ,  -87.68     ],\n",
       "         [ -71.939    ,  -79.779    ,  -83.68     ],\n",
       "         [ -75.939    ,  -85.779    ,  -86.68     ]],\n",
       "\n",
       "        [[ -25.939003 ,  -31.779    , -103.68     ],\n",
       "         [ -17.939003 ,  -23.779    ,  -97.68     ],\n",
       "         [ -32.939003 ,  -37.779    , -106.68     ],\n",
       "         ...,\n",
       "         [ -72.939    ,  -77.779    ,  -81.68     ],\n",
       "         [ -78.939    ,  -86.779    ,  -89.68     ],\n",
       "         [ -72.939    ,  -81.779    ,  -81.68     ]]]], dtype=float32)"
      ]
     },
     "execution_count": 18,
     "metadata": {},
     "output_type": "execute_result"
    }
   ],
   "source": [
    "x = preprocess_input(x)\n",
    "x"
   ]
  },
  {
   "cell_type": "code",
   "execution_count": 19,
   "id": "f280cfb2-4591-4396-b2d4-96947ef33ade",
   "metadata": {},
   "outputs": [
    {
     "name": "stdout",
     "output_type": "stream",
     "text": [
      "\u001b[1m1/1\u001b[0m \u001b[32m━━━━━━━━━━━━━━━━━━━━\u001b[0m\u001b[37m\u001b[0m \u001b[1m0s\u001b[0m 92ms/step\n"
     ]
    }
   ],
   "source": [
    "preds = model.predict(x)"
   ]
  },
  {
   "cell_type": "code",
   "execution_count": 20,
   "id": "0d91803e-94fc-4837-8ac0-542a6a026c23",
   "metadata": {},
   "outputs": [
    {
     "name": "stdout",
     "output_type": "stream",
     "text": [
      "예측결과 : [('n03876231', 'paintbrush', 0.6669451), ('n03874599', 'padlock', 0.19179864), ('n03481172', 'hammer', 0.04345972), ('n04372370', 'switch', 0.010773781), ('n03742115', 'medicine_chest', 0.008359751)]\n"
     ]
    }
   ],
   "source": [
    "top5 = decode_predictions(preds, top=5)[0]\n",
    "print(\"예측결과 :\",top5)"
   ]
  },
  {
   "cell_type": "code",
   "execution_count": 21,
   "id": "fa12e2de-0726-40c1-85e7-a287c125a98b",
   "metadata": {},
   "outputs": [
    {
     "name": "stdout",
     "output_type": "stream",
     "text": [
      "paintbrush:0.6669451 (10, 20)\n",
      "padlock:0.19179864 (10, 40)\n",
      "hammer:0.04345972 (10, 60)\n",
      "switch:0.010773781 (10, 80)\n",
      "medicine_chest:0.008359751 (10, 100)\n"
     ]
    }
   ],
   "source": [
    "for i in range(5) :\n",
    "    cv.putText(img, \n",
    "               top5[i][1] + \":\" + str(top5[i][2]),(10,20+i*20),\n",
    "               cv.FONT_HERSHEY_COMPLEX,\n",
    "               0.5,(0,0,255),1)\n",
    "    print(top5[i][1] + \":\" + str(top5[i][2]),(10,20+i*20))\n",
    "cv.imshow(\"Recognition result\", img)\n",
    "\n",
    "cv.waitKey()\n",
    "cv.destroyAllWindows()"
   ]
  },
  {
   "cell_type": "code",
   "execution_count": null,
   "id": "fe93b36c-d9d9-407c-865b-6fcb5403062d",
   "metadata": {},
   "outputs": [],
   "source": []
  },
  {
   "cell_type": "code",
   "execution_count": null,
   "id": "70b68d26-f6e1-42a4-b166-f3ce2d6e390c",
   "metadata": {},
   "outputs": [],
   "source": []
  }
 ],
 "metadata": {
  "kernelspec": {
   "display_name": "Python 3 (ipykernel)",
   "language": "python",
   "name": "python3"
  },
  "language_info": {
   "codemirror_mode": {
    "name": "ipython",
    "version": 3
   },
   "file_extension": ".py",
   "mimetype": "text/x-python",
   "name": "python",
   "nbconvert_exporter": "python",
   "pygments_lexer": "ipython3",
   "version": "3.12.11"
  }
 },
 "nbformat": 4,
 "nbformat_minor": 5
}
