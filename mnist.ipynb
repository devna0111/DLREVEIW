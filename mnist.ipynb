{
 "cells": [
  {
   "cell_type": "code",
   "execution_count": 22,
   "id": "816537dd",
   "metadata": {},
   "outputs": [],
   "source": [
    "import numpy as np\n",
    "import tensorflow.keras.datasets as ds\n",
    "import tensorflow as tf\n",
    "\n",
    "from tensorflow.keras.models import Sequential\n",
    "from tensorflow.keras.layers import Dense\n",
    "from tensorflow.keras.optimizers import SGD"
   ]
  },
  {
   "cell_type": "code",
   "execution_count": 23,
   "id": "15aacaf1",
   "metadata": {},
   "outputs": [
    {
     "data": {
      "text/plain": [
       "((60000, 28, 28), (10000, 28, 28), (60000,), (10000,))"
      ]
     },
     "execution_count": 23,
     "metadata": {},
     "output_type": "execute_result"
    }
   ],
   "source": [
    "(x_train, y_train), (x_test, y_test) = ds.mnist.load_data()\n",
    "x_train.shape, x_test.shape, y_train.shape, y_test.shape"
   ]
  },
  {
   "cell_type": "code",
   "execution_count": 24,
   "id": "9b164157",
   "metadata": {},
   "outputs": [
    {
     "name": "stdout",
     "output_type": "stream",
     "text": [
      "(60000, 784) (10000, 784) (60000, 10) (10000, 10)\n"
     ]
    }
   ],
   "source": [
    "# 1차원 변환 => MLP 이용\n",
    "x_train = x_train.reshape(60000,28*28)\n",
    "x_test = x_test.reshape(10000,28*28)\n",
    "# 정규화\n",
    "x_train = x_train.astype(np.float32)/255.0\n",
    "x_test = x_test.astype(np.float32)/255.0\n",
    "\n",
    "y_train = tf.keras.utils.to_categorical(y_train, 10)\n",
    "y_test = tf.keras.utils.to_categorical(y_test, 10)\n",
    "print(x_train.shape, x_test.shape, y_train.shape, y_test.shape)"
   ]
  },
  {
   "cell_type": "code",
   "execution_count": 25,
   "id": "fbce6a6e",
   "metadata": {},
   "outputs": [
    {
     "name": "stdout",
     "output_type": "stream",
     "text": [
      "Model: \"sequential_2\"\n",
      "_________________________________________________________________\n",
      " Layer (type)                Output Shape              Param #   \n",
      "=================================================================\n",
      " dense_4 (Dense)             (None, 512)               401920    \n",
      "                                                                 \n",
      " dense_5 (Dense)             (None, 10)                5130      \n",
      "                                                                 \n",
      "=================================================================\n",
      "Total params: 407050 (1.55 MB)\n",
      "Trainable params: 407050 (1.55 MB)\n",
      "Non-trainable params: 0 (0.00 Byte)\n",
      "_________________________________________________________________\n"
     ]
    }
   ],
   "source": [
    "mlp = Sequential()\n",
    "mlp.add(Dense(units=512, activation='tanh',input_shape=(784,)))\n",
    "mlp.add(Dense(units=10, activation='softmax'))\n",
    "mlp.summary()"
   ]
  },
  {
   "cell_type": "code",
   "execution_count": 26,
   "id": "3b28a9f3",
   "metadata": {},
   "outputs": [],
   "source": [
    "mlp.compile(loss='categorical_crossentropy', optimizer=SGD(learning_rate=0.01), metrics=['accuracy'])"
   ]
  },
  {
   "cell_type": "code",
   "execution_count": 27,
   "id": "7a882998",
   "metadata": {},
   "outputs": [
    {
     "name": "stdout",
     "output_type": "stream",
     "text": [
      "Epoch 1/50\n",
      "469/469 [==============================] - 3s 6ms/step - loss: 0.9233 - accuracy: 0.7824 - val_loss: 0.5409 - val_accuracy: 0.8716\n",
      "Epoch 2/50\n",
      "469/469 [==============================] - 2s 4ms/step - loss: 0.4949 - accuracy: 0.8724 - val_loss: 0.4230 - val_accuracy: 0.8913\n",
      "Epoch 3/50\n",
      "469/469 [==============================] - 2s 4ms/step - loss: 0.4200 - accuracy: 0.8867 - val_loss: 0.3769 - val_accuracy: 0.9005\n",
      "Epoch 4/50\n",
      "469/469 [==============================] - 2s 4ms/step - loss: 0.3841 - accuracy: 0.8943 - val_loss: 0.3526 - val_accuracy: 0.9041\n",
      "Epoch 5/50\n",
      "469/469 [==============================] - 2s 4ms/step - loss: 0.3623 - accuracy: 0.8994 - val_loss: 0.3351 - val_accuracy: 0.9093\n",
      "Epoch 6/50\n",
      "469/469 [==============================] - 2s 4ms/step - loss: 0.3469 - accuracy: 0.9022 - val_loss: 0.3241 - val_accuracy: 0.9116\n",
      "Epoch 7/50\n",
      "469/469 [==============================] - 2s 4ms/step - loss: 0.3354 - accuracy: 0.9051 - val_loss: 0.3149 - val_accuracy: 0.9143\n",
      "Epoch 8/50\n",
      "469/469 [==============================] - 2s 4ms/step - loss: 0.3262 - accuracy: 0.9080 - val_loss: 0.3072 - val_accuracy: 0.9158\n",
      "Epoch 9/50\n",
      "469/469 [==============================] - 2s 5ms/step - loss: 0.3187 - accuracy: 0.9096 - val_loss: 0.3027 - val_accuracy: 0.9174\n",
      "Epoch 10/50\n",
      "469/469 [==============================] - 2s 5ms/step - loss: 0.3123 - accuracy: 0.9118 - val_loss: 0.2961 - val_accuracy: 0.9179\n",
      "Epoch 11/50\n",
      "469/469 [==============================] - 2s 4ms/step - loss: 0.3066 - accuracy: 0.9133 - val_loss: 0.2922 - val_accuracy: 0.9176\n",
      "Epoch 12/50\n",
      "469/469 [==============================] - 1s 2ms/step - loss: 0.3017 - accuracy: 0.9149 - val_loss: 0.2881 - val_accuracy: 0.9186\n",
      "Epoch 13/50\n",
      "469/469 [==============================] - 2s 5ms/step - loss: 0.2973 - accuracy: 0.9162 - val_loss: 0.2852 - val_accuracy: 0.9190\n",
      "Epoch 14/50\n",
      "469/469 [==============================] - 2s 5ms/step - loss: 0.2932 - accuracy: 0.9171 - val_loss: 0.2815 - val_accuracy: 0.9214\n",
      "Epoch 15/50\n",
      "469/469 [==============================] - 2s 4ms/step - loss: 0.2894 - accuracy: 0.9184 - val_loss: 0.2778 - val_accuracy: 0.9216\n",
      "Epoch 16/50\n",
      "469/469 [==============================] - 2s 4ms/step - loss: 0.2859 - accuracy: 0.9190 - val_loss: 0.2760 - val_accuracy: 0.9223\n",
      "Epoch 17/50\n",
      "469/469 [==============================] - 2s 5ms/step - loss: 0.2825 - accuracy: 0.9203 - val_loss: 0.2732 - val_accuracy: 0.9224\n",
      "Epoch 18/50\n",
      "469/469 [==============================] - 2s 4ms/step - loss: 0.2794 - accuracy: 0.9209 - val_loss: 0.2705 - val_accuracy: 0.9223\n",
      "Epoch 19/50\n",
      "469/469 [==============================] - 2s 4ms/step - loss: 0.2763 - accuracy: 0.9217 - val_loss: 0.2680 - val_accuracy: 0.9247\n",
      "Epoch 20/50\n",
      "469/469 [==============================] - 2s 5ms/step - loss: 0.2734 - accuracy: 0.9227 - val_loss: 0.2666 - val_accuracy: 0.9245\n",
      "Epoch 21/50\n",
      "469/469 [==============================] - 2s 4ms/step - loss: 0.2706 - accuracy: 0.9237 - val_loss: 0.2641 - val_accuracy: 0.9249\n",
      "Epoch 22/50\n",
      "469/469 [==============================] - 2s 4ms/step - loss: 0.2678 - accuracy: 0.9247 - val_loss: 0.2617 - val_accuracy: 0.9258\n",
      "Epoch 23/50\n",
      "469/469 [==============================] - 2s 5ms/step - loss: 0.2651 - accuracy: 0.9256 - val_loss: 0.2593 - val_accuracy: 0.9263\n",
      "Epoch 24/50\n",
      "469/469 [==============================] - 2s 4ms/step - loss: 0.2625 - accuracy: 0.9264 - val_loss: 0.2568 - val_accuracy: 0.9264\n",
      "Epoch 25/50\n",
      "469/469 [==============================] - 2s 4ms/step - loss: 0.2599 - accuracy: 0.9270 - val_loss: 0.2553 - val_accuracy: 0.9278\n",
      "Epoch 26/50\n",
      "469/469 [==============================] - 2s 4ms/step - loss: 0.2573 - accuracy: 0.9279 - val_loss: 0.2527 - val_accuracy: 0.9280\n",
      "Epoch 27/50\n",
      "469/469 [==============================] - 2s 4ms/step - loss: 0.2548 - accuracy: 0.9289 - val_loss: 0.2512 - val_accuracy: 0.9288\n",
      "Epoch 28/50\n",
      "469/469 [==============================] - 1s 2ms/step - loss: 0.2523 - accuracy: 0.9293 - val_loss: 0.2489 - val_accuracy: 0.9289\n",
      "Epoch 29/50\n",
      "469/469 [==============================] - 2s 4ms/step - loss: 0.2498 - accuracy: 0.9300 - val_loss: 0.2467 - val_accuracy: 0.9300\n",
      "Epoch 30/50\n",
      "469/469 [==============================] - 2s 4ms/step - loss: 0.2472 - accuracy: 0.9306 - val_loss: 0.2443 - val_accuracy: 0.9301\n",
      "Epoch 31/50\n",
      "469/469 [==============================] - 2s 4ms/step - loss: 0.2449 - accuracy: 0.9315 - val_loss: 0.2424 - val_accuracy: 0.9310\n",
      "Epoch 32/50\n",
      "469/469 [==============================] - 2s 4ms/step - loss: 0.2423 - accuracy: 0.9324 - val_loss: 0.2400 - val_accuracy: 0.9310\n",
      "Epoch 33/50\n",
      "469/469 [==============================] - 2s 4ms/step - loss: 0.2398 - accuracy: 0.9331 - val_loss: 0.2377 - val_accuracy: 0.9318\n",
      "Epoch 34/50\n",
      "469/469 [==============================] - 2s 4ms/step - loss: 0.2374 - accuracy: 0.9336 - val_loss: 0.2357 - val_accuracy: 0.9333\n",
      "Epoch 35/50\n",
      "469/469 [==============================] - 2s 4ms/step - loss: 0.2350 - accuracy: 0.9347 - val_loss: 0.2335 - val_accuracy: 0.9333\n",
      "Epoch 36/50\n",
      "469/469 [==============================] - 2s 4ms/step - loss: 0.2326 - accuracy: 0.9353 - val_loss: 0.2322 - val_accuracy: 0.9337\n",
      "Epoch 37/50\n",
      "469/469 [==============================] - 2s 4ms/step - loss: 0.2301 - accuracy: 0.9359 - val_loss: 0.2300 - val_accuracy: 0.9341\n",
      "Epoch 38/50\n",
      "469/469 [==============================] - 2s 4ms/step - loss: 0.2278 - accuracy: 0.9366 - val_loss: 0.2278 - val_accuracy: 0.9348\n",
      "Epoch 39/50\n",
      "469/469 [==============================] - 2s 4ms/step - loss: 0.2253 - accuracy: 0.9376 - val_loss: 0.2257 - val_accuracy: 0.9354\n",
      "Epoch 40/50\n",
      "469/469 [==============================] - 2s 4ms/step - loss: 0.2230 - accuracy: 0.9385 - val_loss: 0.2236 - val_accuracy: 0.9360\n",
      "Epoch 41/50\n",
      "469/469 [==============================] - 2s 4ms/step - loss: 0.2207 - accuracy: 0.9388 - val_loss: 0.2216 - val_accuracy: 0.9372\n",
      "Epoch 42/50\n",
      "469/469 [==============================] - 2s 4ms/step - loss: 0.2183 - accuracy: 0.9395 - val_loss: 0.2191 - val_accuracy: 0.9377\n",
      "Epoch 43/50\n",
      "469/469 [==============================] - 2s 4ms/step - loss: 0.2160 - accuracy: 0.9399 - val_loss: 0.2173 - val_accuracy: 0.9381\n",
      "Epoch 44/50\n",
      "469/469 [==============================] - 2s 4ms/step - loss: 0.2137 - accuracy: 0.9409 - val_loss: 0.2149 - val_accuracy: 0.9395\n",
      "Epoch 45/50\n",
      "469/469 [==============================] - 1s 2ms/step - loss: 0.2114 - accuracy: 0.9417 - val_loss: 0.2128 - val_accuracy: 0.9394\n",
      "Epoch 46/50\n",
      "469/469 [==============================] - 2s 4ms/step - loss: 0.2092 - accuracy: 0.9420 - val_loss: 0.2112 - val_accuracy: 0.9397\n",
      "Epoch 47/50\n",
      "469/469 [==============================] - 2s 4ms/step - loss: 0.2070 - accuracy: 0.9430 - val_loss: 0.2089 - val_accuracy: 0.9406\n",
      "Epoch 48/50\n",
      "469/469 [==============================] - 2s 4ms/step - loss: 0.2048 - accuracy: 0.9431 - val_loss: 0.2068 - val_accuracy: 0.9416\n",
      "Epoch 49/50\n",
      "469/469 [==============================] - 2s 4ms/step - loss: 0.2026 - accuracy: 0.9445 - val_loss: 0.2050 - val_accuracy: 0.9414\n",
      "Epoch 50/50\n",
      "469/469 [==============================] - 2s 4ms/step - loss: 0.2005 - accuracy: 0.9445 - val_loss: 0.2029 - val_accuracy: 0.9417\n"
     ]
    },
    {
     "data": {
      "text/plain": [
       "<keras.src.callbacks.History at 0x78b31cc166b0>"
      ]
     },
     "execution_count": 27,
     "metadata": {},
     "output_type": "execute_result"
    }
   ],
   "source": [
    "mlp.fit(x_train,y_train,\n",
    "        batch_size=128,\n",
    "        epochs=50,\n",
    "        validation_data=(x_test,y_test))"
   ]
  },
  {
   "cell_type": "code",
   "execution_count": 28,
   "id": "992ef84e",
   "metadata": {},
   "outputs": [
    {
     "name": "stdout",
     "output_type": "stream",
     "text": [
      "313/313 [==============================] - 1s 2ms/step - loss: 0.2029 - accuracy: 0.9417\n",
      "[0.2028612345457077, 0.9416999816894531]\n"
     ]
    }
   ],
   "source": [
    "res = mlp.evaluate(x_test,y_test)\n",
    "print(res)"
   ]
  },
  {
   "cell_type": "code",
   "execution_count": 31,
   "id": "2e6cc73e",
   "metadata": {},
   "outputs": [
    {
     "name": "stdout",
     "output_type": "stream",
     "text": [
      "정답율 : 94.17 %\n"
     ]
    }
   ],
   "source": [
    "print(\"정답율 :\" ,round(res[1]*100,2), \"%\")"
   ]
  },
  {
   "cell_type": "code",
   "execution_count": null,
   "id": "0277e127",
   "metadata": {},
   "outputs": [],
   "source": []
  }
 ],
 "metadata": {
  "kernelspec": {
   "display_name": "dl",
   "language": "python",
   "name": "python3"
  },
  "language_info": {
   "codemirror_mode": {
    "name": "ipython",
    "version": 3
   },
   "file_extension": ".py",
   "mimetype": "text/x-python",
   "name": "python",
   "nbconvert_exporter": "python",
   "pygments_lexer": "ipython3",
   "version": "3.10.18"
  }
 },
 "nbformat": 4,
 "nbformat_minor": 5
}
