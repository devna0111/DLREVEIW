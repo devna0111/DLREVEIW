{
 "cells": [
  {
   "cell_type": "markdown",
   "id": "0fe96ac6",
   "metadata": {},
   "source": [
    "# 필요 라이브러리"
   ]
  },
  {
   "cell_type": "code",
   "execution_count": null,
   "id": "7a149189",
   "metadata": {},
   "outputs": [],
   "source": [
    "from tensorflow.keras.models import Sequential\n",
    "from tensorflow.keras.layers import Dense\n",
    "import numpy as np"
   ]
  },
  {
   "cell_type": "markdown",
   "id": "cd8f45e1",
   "metadata": {},
   "source": [
    "# 데이터 준비"
   ]
  },
  {
   "cell_type": "code",
   "execution_count": null,
   "id": "d48a12ba",
   "metadata": {},
   "outputs": [],
   "source": [
    "Data_set = np.loadtxt(\"./data/ThoraricSurgery3.csv\", delimiter=\",\")\n",
    "X = Data_set[:,0:16]\n",
    "y = Data_set[:,16]          "
   ]
  },
  {
   "cell_type": "markdown",
   "id": "1e2b7b7f",
   "metadata": {},
   "source": [
    "# 구조 결정"
   ]
  },
  {
   "cell_type": "code",
   "execution_count": null,
   "id": "dd7598c0",
   "metadata": {
    "vscode": {
     "languageId": "plaintext"
    }
   },
   "outputs": [],
   "source": [
    "model = Sequential()\n",
    "model.add(Dense(30, input_dim=16, activation='relu'))\n",
    "model.add(Dense(1, activation='sigmoid'))"
   ]
  },
  {
   "cell_type": "markdown",
   "id": "9c2dfa27",
   "metadata": {},
   "source": [
    "# 모델 학습과정 설정"
   ]
  },
  {
   "cell_type": "markdown",
   "id": "a4fa8396",
   "metadata": {},
   "source": [
    "model.compile(loss='binary_crossentropy',\n",
    "                optimizer='adam',\n",
    "                metrics=['accuracy'])"
   ]
  },
  {
   "cell_type": "markdown",
   "id": "89bbcc80",
   "metadata": {},
   "source": [
    "# 모델 학습"
   ]
  },
  {
   "cell_type": "code",
   "execution_count": null,
   "id": "7f7ba1a9",
   "metadata": {
    "vscode": {
     "languageId": "plaintext"
    }
   },
   "outputs": [],
   "source": [
    "history=model.fit(X,\n",
    "                  y,\n",
    "                  epochs=5, \n",
    "                  batch_size=16)"
   ]
  }
 ],
 "metadata": {
  "language_info": {
   "name": "python"
  }
 },
 "nbformat": 4,
 "nbformat_minor": 5
}
