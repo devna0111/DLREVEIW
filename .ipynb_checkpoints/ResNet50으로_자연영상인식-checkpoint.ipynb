{
 "cells": [
  {
   "cell_type": "code",
   "execution_count": 34,
   "id": "ffe30bf8-2f1c-4deb-8f49-e991b14a0800",
   "metadata": {},
   "outputs": [],
   "source": [
    "import cv2 as cv\n",
    "import numpy as np\n",
    "from tensorflow.keras.applications.resnet50 import ResNet50, preprocess_input, decode_predictions"
   ]
  },
  {
   "cell_type": "code",
   "execution_count": 35,
   "id": "dfd3332c-364c-44e0-9f03-b20bd1c9623e",
   "metadata": {},
   "outputs": [],
   "source": [
    "model = ResNet50(weights='imagenet')"
   ]
  },
  {
   "cell_type": "code",
   "execution_count": 72,
   "id": "0b66748e-a81b-4ac5-9f6b-65056b42be76",
   "metadata": {},
   "outputs": [],
   "source": [
    "img = cv.imread('./img/kimchi.jpg')\n",
    "# img"
   ]
  },
  {
   "cell_type": "code",
   "execution_count": 73,
   "id": "3af1e707-14bc-4230-b4a2-38aaf4902e6b",
   "metadata": {},
   "outputs": [],
   "source": [
    "cv.imshow('img',img)\n",
    "cv.waitKey()\n",
    "cv.destroyAllWindows()"
   ]
  },
  {
   "cell_type": "code",
   "execution_count": 74,
   "id": "acd41e06-7896-4e9d-81d1-7fb685a25d78",
   "metadata": {},
   "outputs": [
    {
     "data": {
      "text/plain": [
       "array([[[[197, 202, 205],\n",
       "         [198, 203, 206],\n",
       "         [198, 203, 206],\n",
       "         ...,\n",
       "         [228, 225, 221],\n",
       "         [229, 226, 222],\n",
       "         [229, 226, 222]],\n",
       "\n",
       "        [[199, 204, 207],\n",
       "         [199, 204, 207],\n",
       "         [199, 204, 207],\n",
       "         ...,\n",
       "         [228, 226, 222],\n",
       "         [229, 226, 222],\n",
       "         [230, 227, 223]],\n",
       "\n",
       "        [[202, 206, 207],\n",
       "         [202, 206, 207],\n",
       "         [202, 207, 208],\n",
       "         ...,\n",
       "         [229, 226, 222],\n",
       "         [230, 227, 223],\n",
       "         [230, 227, 223]],\n",
       "\n",
       "        ...,\n",
       "\n",
       "        [[ 11,  30,  63],\n",
       "         [ 12,  31,  64],\n",
       "         [ 13,  32,  67],\n",
       "         ...,\n",
       "         [ 52,  86, 113],\n",
       "         [ 79, 103, 125],\n",
       "         [  7,  37,  52]],\n",
       "\n",
       "        [[ 11,  31,  62],\n",
       "         [ 16,  35,  68],\n",
       "         [ 16,  36,  71],\n",
       "         ...,\n",
       "         [ 33,  66,  92],\n",
       "         [ 67,  96, 127],\n",
       "         [ 65, 100, 127]],\n",
       "\n",
       "        [[ 15,  35,  66],\n",
       "         [ 23,  33,  67],\n",
       "         [ 19,  38,  73],\n",
       "         ...,\n",
       "         [  1,  24,  55],\n",
       "         [ 46,  70, 102],\n",
       "         [ 67,  94, 119]]]], dtype=uint8)"
      ]
     },
     "execution_count": 74,
     "metadata": {},
     "output_type": "execute_result"
    }
   ],
   "source": [
    "x = np.reshape(cv.resize(img,(224,224)),(1,224,224,3))\n",
    "x"
   ]
  },
  {
   "cell_type": "code",
   "execution_count": 75,
   "id": "cba601aa-3cea-4fe9-be0d-3af042e6bd17",
   "metadata": {},
   "outputs": [
    {
     "data": {
      "text/plain": [
       "array([[[[ 101.061   ,   85.221   ,   73.32    ],\n",
       "         [ 102.061   ,   86.221   ,   74.32    ],\n",
       "         [ 102.061   ,   86.221   ,   74.32    ],\n",
       "         ...,\n",
       "         [ 117.061   ,  108.221   ,  104.32    ],\n",
       "         [ 118.061   ,  109.221   ,  105.32    ],\n",
       "         [ 118.061   ,  109.221   ,  105.32    ]],\n",
       "\n",
       "        [[ 103.061   ,   87.221   ,   75.32    ],\n",
       "         [ 103.061   ,   87.221   ,   75.32    ],\n",
       "         [ 103.061   ,   87.221   ,   75.32    ],\n",
       "         ...,\n",
       "         [ 118.061   ,  109.221   ,  104.32    ],\n",
       "         [ 118.061   ,  109.221   ,  105.32    ],\n",
       "         [ 119.061   ,  110.221   ,  106.32    ]],\n",
       "\n",
       "        [[ 103.061   ,   89.221   ,   78.32    ],\n",
       "         [ 103.061   ,   89.221   ,   78.32    ],\n",
       "         [ 104.061   ,   90.221   ,   78.32    ],\n",
       "         ...,\n",
       "         [ 118.061   ,  109.221   ,  105.32    ],\n",
       "         [ 119.061   ,  110.221   ,  106.32    ],\n",
       "         [ 119.061   ,  110.221   ,  106.32    ]],\n",
       "\n",
       "        ...,\n",
       "\n",
       "        [[ -40.939003,  -86.779   , -112.68    ],\n",
       "         [ -39.939003,  -85.779   , -111.68    ],\n",
       "         [ -36.939003,  -84.779   , -110.68    ],\n",
       "         ...,\n",
       "         [   9.060997,  -30.779   ,  -71.68    ],\n",
       "         [  21.060997,  -13.778999,  -44.68    ],\n",
       "         [ -51.939003,  -79.779   , -116.68    ]],\n",
       "\n",
       "        [[ -41.939003,  -85.779   , -112.68    ],\n",
       "         [ -35.939003,  -81.779   , -107.68    ],\n",
       "         [ -32.939003,  -80.779   , -107.68    ],\n",
       "         ...,\n",
       "         [ -11.939003,  -50.779   ,  -90.68    ],\n",
       "         [  23.060997,  -20.779   ,  -56.68    ],\n",
       "         [  23.060997,  -16.779   ,  -58.68    ]],\n",
       "\n",
       "        [[ -37.939003,  -81.779   , -108.68    ],\n",
       "         [ -36.939003,  -83.779   , -100.68    ],\n",
       "         [ -30.939003,  -78.779   , -104.68    ],\n",
       "         ...,\n",
       "         [ -48.939003,  -92.779   , -122.68    ],\n",
       "         [  -1.939003,  -46.779   ,  -77.68    ],\n",
       "         [  15.060997,  -22.779   ,  -56.68    ]]]], dtype=float32)"
      ]
     },
     "execution_count": 75,
     "metadata": {},
     "output_type": "execute_result"
    }
   ],
   "source": [
    "x = preprocess_input(x)\n",
    "x"
   ]
  },
  {
   "cell_type": "code",
   "execution_count": 76,
   "id": "f280cfb2-4591-4396-b2d4-96947ef33ade",
   "metadata": {},
   "outputs": [
    {
     "name": "stdout",
     "output_type": "stream",
     "text": [
      "\u001b[1m1/1\u001b[0m \u001b[32m━━━━━━━━━━━━━━━━━━━━\u001b[0m\u001b[37m\u001b[0m \u001b[1m0s\u001b[0m 161ms/step\n"
     ]
    }
   ],
   "source": [
    "preds = model.predict(x)"
   ]
  },
  {
   "cell_type": "code",
   "execution_count": 77,
   "id": "0d91803e-94fc-4837-8ac0-542a6a026c23",
   "metadata": {},
   "outputs": [
    {
     "name": "stdout",
     "output_type": "stream",
     "text": [
      "예측결과 : [('n04447861', 'toilet_seat', 0.41449058), ('n03814906', 'necklace', 0.072533), ('n01985128', 'crayfish', 0.06807843), ('n01768244', 'trilobite', 0.048128013), ('n03394916', 'French_horn', 0.044631768)]\n"
     ]
    }
   ],
   "source": [
    "top5 = decode_predictions(preds, top=5)[0]\n",
    "print(\"예측결과 :\",top5)"
   ]
  },
  {
   "cell_type": "code",
   "execution_count": 78,
   "id": "fa12e2de-0726-40c1-85e7-a287c125a98b",
   "metadata": {},
   "outputs": [
    {
     "name": "stdout",
     "output_type": "stream",
     "text": [
      "toilet_seat:0.41449058 (10, 20)\n",
      "necklace:0.072533 (10, 40)\n",
      "crayfish:0.06807843 (10, 60)\n",
      "trilobite:0.048128013 (10, 80)\n",
      "French_horn:0.044631768 (10, 100)\n"
     ]
    }
   ],
   "source": [
    "for i in range(5) :\n",
    "    cv.putText(img, \n",
    "               top5[i][1] + \":\" + str(top5[i][2]),(10,20+i*20),\n",
    "               cv.FONT_HERSHEY_COMPLEX,\n",
    "               0.5,(0,0,0),1)\n",
    "    print(top5[i][1] + \":\" + str(top5[i][2]),(10,20+i*20))\n",
    "cv.imshow(\"Recognition result\", img)\n",
    "\n",
    "cv.waitKey()\n",
    "cv.destroyAllWindows()"
   ]
  },
  {
   "cell_type": "code",
   "execution_count": null,
   "id": "fe93b36c-d9d9-407c-865b-6fcb5403062d",
   "metadata": {},
   "outputs": [],
   "source": []
  }
 ],
 "metadata": {
  "kernelspec": {
   "display_name": "Python 3 (ipykernel)",
   "language": "python",
   "name": "python3"
  },
  "language_info": {
   "codemirror_mode": {
    "name": "ipython",
    "version": 3
   },
   "file_extension": ".py",
   "mimetype": "text/x-python",
   "name": "python",
   "nbconvert_exporter": "python",
   "pygments_lexer": "ipython3",
   "version": "3.12.11"
  }
 },
 "nbformat": 4,
 "nbformat_minor": 5
}
